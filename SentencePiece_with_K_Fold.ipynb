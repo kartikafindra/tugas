{
  "nbformat": 4,
  "nbformat_minor": 0,
  "metadata": {
    "colab": {
      "name": "SentencePiece with K-Fold.ipynb",
      "provenance": [],
      "collapsed_sections": []
    },
    "kernelspec": {
      "name": "python3",
      "display_name": "Python 3"
    },
    "language_info": {
      "name": "python"
    }
  },
  "cells": [
    {
      "cell_type": "code",
      "metadata": {
        "colab": {
          "base_uri": "https://localhost:8080/"
        },
        "id": "d8os8FwyxN5A",
        "outputId": "d43dfc64-01b4-4a06-a17b-476f484b2bbb"
      },
      "source": [
        "!pip install sentencepiece\n",
        "!pip install keras_metrics"
      ],
      "execution_count": 1,
      "outputs": [
        {
          "output_type": "stream",
          "name": "stdout",
          "text": [
            "Collecting sentencepiece\n",
            "  Downloading sentencepiece-0.1.96-cp37-cp37m-manylinux_2_17_x86_64.manylinux2014_x86_64.whl (1.2 MB)\n",
            "\u001b[?25l\r\u001b[K     |▎                               | 10 kB 27.8 MB/s eta 0:00:01\r\u001b[K     |▌                               | 20 kB 30.3 MB/s eta 0:00:01\r\u001b[K     |▉                               | 30 kB 21.5 MB/s eta 0:00:01\r\u001b[K     |█                               | 40 kB 17.3 MB/s eta 0:00:01\r\u001b[K     |█▍                              | 51 kB 7.7 MB/s eta 0:00:01\r\u001b[K     |█▋                              | 61 kB 9.0 MB/s eta 0:00:01\r\u001b[K     |██                              | 71 kB 8.1 MB/s eta 0:00:01\r\u001b[K     |██▏                             | 81 kB 9.1 MB/s eta 0:00:01\r\u001b[K     |██▍                             | 92 kB 9.8 MB/s eta 0:00:01\r\u001b[K     |██▊                             | 102 kB 7.5 MB/s eta 0:00:01\r\u001b[K     |███                             | 112 kB 7.5 MB/s eta 0:00:01\r\u001b[K     |███▎                            | 122 kB 7.5 MB/s eta 0:00:01\r\u001b[K     |███▌                            | 133 kB 7.5 MB/s eta 0:00:01\r\u001b[K     |███▉                            | 143 kB 7.5 MB/s eta 0:00:01\r\u001b[K     |████                            | 153 kB 7.5 MB/s eta 0:00:01\r\u001b[K     |████▎                           | 163 kB 7.5 MB/s eta 0:00:01\r\u001b[K     |████▋                           | 174 kB 7.5 MB/s eta 0:00:01\r\u001b[K     |████▉                           | 184 kB 7.5 MB/s eta 0:00:01\r\u001b[K     |█████▏                          | 194 kB 7.5 MB/s eta 0:00:01\r\u001b[K     |█████▍                          | 204 kB 7.5 MB/s eta 0:00:01\r\u001b[K     |█████▊                          | 215 kB 7.5 MB/s eta 0:00:01\r\u001b[K     |██████                          | 225 kB 7.5 MB/s eta 0:00:01\r\u001b[K     |██████▏                         | 235 kB 7.5 MB/s eta 0:00:01\r\u001b[K     |██████▌                         | 245 kB 7.5 MB/s eta 0:00:01\r\u001b[K     |██████▊                         | 256 kB 7.5 MB/s eta 0:00:01\r\u001b[K     |███████                         | 266 kB 7.5 MB/s eta 0:00:01\r\u001b[K     |███████▎                        | 276 kB 7.5 MB/s eta 0:00:01\r\u001b[K     |███████▋                        | 286 kB 7.5 MB/s eta 0:00:01\r\u001b[K     |███████▉                        | 296 kB 7.5 MB/s eta 0:00:01\r\u001b[K     |████████                        | 307 kB 7.5 MB/s eta 0:00:01\r\u001b[K     |████████▍                       | 317 kB 7.5 MB/s eta 0:00:01\r\u001b[K     |████████▋                       | 327 kB 7.5 MB/s eta 0:00:01\r\u001b[K     |█████████                       | 337 kB 7.5 MB/s eta 0:00:01\r\u001b[K     |█████████▏                      | 348 kB 7.5 MB/s eta 0:00:01\r\u001b[K     |█████████▌                      | 358 kB 7.5 MB/s eta 0:00:01\r\u001b[K     |█████████▊                      | 368 kB 7.5 MB/s eta 0:00:01\r\u001b[K     |██████████                      | 378 kB 7.5 MB/s eta 0:00:01\r\u001b[K     |██████████▎                     | 389 kB 7.5 MB/s eta 0:00:01\r\u001b[K     |██████████▌                     | 399 kB 7.5 MB/s eta 0:00:01\r\u001b[K     |██████████▉                     | 409 kB 7.5 MB/s eta 0:00:01\r\u001b[K     |███████████                     | 419 kB 7.5 MB/s eta 0:00:01\r\u001b[K     |███████████▍                    | 430 kB 7.5 MB/s eta 0:00:01\r\u001b[K     |███████████▋                    | 440 kB 7.5 MB/s eta 0:00:01\r\u001b[K     |███████████▉                    | 450 kB 7.5 MB/s eta 0:00:01\r\u001b[K     |████████████▏                   | 460 kB 7.5 MB/s eta 0:00:01\r\u001b[K     |████████████▍                   | 471 kB 7.5 MB/s eta 0:00:01\r\u001b[K     |████████████▊                   | 481 kB 7.5 MB/s eta 0:00:01\r\u001b[K     |█████████████                   | 491 kB 7.5 MB/s eta 0:00:01\r\u001b[K     |█████████████▎                  | 501 kB 7.5 MB/s eta 0:00:01\r\u001b[K     |█████████████▌                  | 512 kB 7.5 MB/s eta 0:00:01\r\u001b[K     |█████████████▊                  | 522 kB 7.5 MB/s eta 0:00:01\r\u001b[K     |██████████████                  | 532 kB 7.5 MB/s eta 0:00:01\r\u001b[K     |██████████████▎                 | 542 kB 7.5 MB/s eta 0:00:01\r\u001b[K     |██████████████▋                 | 552 kB 7.5 MB/s eta 0:00:01\r\u001b[K     |██████████████▉                 | 563 kB 7.5 MB/s eta 0:00:01\r\u001b[K     |███████████████▏                | 573 kB 7.5 MB/s eta 0:00:01\r\u001b[K     |███████████████▍                | 583 kB 7.5 MB/s eta 0:00:01\r\u001b[K     |███████████████▋                | 593 kB 7.5 MB/s eta 0:00:01\r\u001b[K     |████████████████                | 604 kB 7.5 MB/s eta 0:00:01\r\u001b[K     |████████████████▏               | 614 kB 7.5 MB/s eta 0:00:01\r\u001b[K     |████████████████▌               | 624 kB 7.5 MB/s eta 0:00:01\r\u001b[K     |████████████████▊               | 634 kB 7.5 MB/s eta 0:00:01\r\u001b[K     |█████████████████               | 645 kB 7.5 MB/s eta 0:00:01\r\u001b[K     |█████████████████▎              | 655 kB 7.5 MB/s eta 0:00:01\r\u001b[K     |█████████████████▌              | 665 kB 7.5 MB/s eta 0:00:01\r\u001b[K     |█████████████████▉              | 675 kB 7.5 MB/s eta 0:00:01\r\u001b[K     |██████████████████              | 686 kB 7.5 MB/s eta 0:00:01\r\u001b[K     |██████████████████▍             | 696 kB 7.5 MB/s eta 0:00:01\r\u001b[K     |██████████████████▋             | 706 kB 7.5 MB/s eta 0:00:01\r\u001b[K     |███████████████████             | 716 kB 7.5 MB/s eta 0:00:01\r\u001b[K     |███████████████████▏            | 727 kB 7.5 MB/s eta 0:00:01\r\u001b[K     |███████████████████▍            | 737 kB 7.5 MB/s eta 0:00:01\r\u001b[K     |███████████████████▊            | 747 kB 7.5 MB/s eta 0:00:01\r\u001b[K     |████████████████████            | 757 kB 7.5 MB/s eta 0:00:01\r\u001b[K     |████████████████████▎           | 768 kB 7.5 MB/s eta 0:00:01\r\u001b[K     |████████████████████▌           | 778 kB 7.5 MB/s eta 0:00:01\r\u001b[K     |████████████████████▉           | 788 kB 7.5 MB/s eta 0:00:01\r\u001b[K     |█████████████████████           | 798 kB 7.5 MB/s eta 0:00:01\r\u001b[K     |█████████████████████▎          | 808 kB 7.5 MB/s eta 0:00:01\r\u001b[K     |█████████████████████▋          | 819 kB 7.5 MB/s eta 0:00:01\r\u001b[K     |█████████████████████▉          | 829 kB 7.5 MB/s eta 0:00:01\r\u001b[K     |██████████████████████▏         | 839 kB 7.5 MB/s eta 0:00:01\r\u001b[K     |██████████████████████▍         | 849 kB 7.5 MB/s eta 0:00:01\r\u001b[K     |██████████████████████▊         | 860 kB 7.5 MB/s eta 0:00:01\r\u001b[K     |███████████████████████         | 870 kB 7.5 MB/s eta 0:00:01\r\u001b[K     |███████████████████████▏        | 880 kB 7.5 MB/s eta 0:00:01\r\u001b[K     |███████████████████████▌        | 890 kB 7.5 MB/s eta 0:00:01\r\u001b[K     |███████████████████████▊        | 901 kB 7.5 MB/s eta 0:00:01\r\u001b[K     |████████████████████████        | 911 kB 7.5 MB/s eta 0:00:01\r\u001b[K     |████████████████████████▎       | 921 kB 7.5 MB/s eta 0:00:01\r\u001b[K     |████████████████████████▋       | 931 kB 7.5 MB/s eta 0:00:01\r\u001b[K     |████████████████████████▉       | 942 kB 7.5 MB/s eta 0:00:01\r\u001b[K     |█████████████████████████       | 952 kB 7.5 MB/s eta 0:00:01\r\u001b[K     |█████████████████████████▍      | 962 kB 7.5 MB/s eta 0:00:01\r\u001b[K     |█████████████████████████▋      | 972 kB 7.5 MB/s eta 0:00:01\r\u001b[K     |██████████████████████████      | 983 kB 7.5 MB/s eta 0:00:01\r\u001b[K     |██████████████████████████▏     | 993 kB 7.5 MB/s eta 0:00:01\r\u001b[K     |██████████████████████████▌     | 1.0 MB 7.5 MB/s eta 0:00:01\r\u001b[K     |██████████████████████████▊     | 1.0 MB 7.5 MB/s eta 0:00:01\r\u001b[K     |███████████████████████████     | 1.0 MB 7.5 MB/s eta 0:00:01\r\u001b[K     |███████████████████████████▎    | 1.0 MB 7.5 MB/s eta 0:00:01\r\u001b[K     |███████████████████████████▌    | 1.0 MB 7.5 MB/s eta 0:00:01\r\u001b[K     |███████████████████████████▉    | 1.1 MB 7.5 MB/s eta 0:00:01\r\u001b[K     |████████████████████████████    | 1.1 MB 7.5 MB/s eta 0:00:01\r\u001b[K     |████████████████████████████▍   | 1.1 MB 7.5 MB/s eta 0:00:01\r\u001b[K     |████████████████████████████▋   | 1.1 MB 7.5 MB/s eta 0:00:01\r\u001b[K     |████████████████████████████▉   | 1.1 MB 7.5 MB/s eta 0:00:01\r\u001b[K     |█████████████████████████████▏  | 1.1 MB 7.5 MB/s eta 0:00:01\r\u001b[K     |█████████████████████████████▍  | 1.1 MB 7.5 MB/s eta 0:00:01\r\u001b[K     |█████████████████████████████▊  | 1.1 MB 7.5 MB/s eta 0:00:01\r\u001b[K     |██████████████████████████████  | 1.1 MB 7.5 MB/s eta 0:00:01\r\u001b[K     |██████████████████████████████▎ | 1.1 MB 7.5 MB/s eta 0:00:01\r\u001b[K     |██████████████████████████████▌ | 1.2 MB 7.5 MB/s eta 0:00:01\r\u001b[K     |██████████████████████████████▊ | 1.2 MB 7.5 MB/s eta 0:00:01\r\u001b[K     |███████████████████████████████ | 1.2 MB 7.5 MB/s eta 0:00:01\r\u001b[K     |███████████████████████████████▎| 1.2 MB 7.5 MB/s eta 0:00:01\r\u001b[K     |███████████████████████████████▋| 1.2 MB 7.5 MB/s eta 0:00:01\r\u001b[K     |███████████████████████████████▉| 1.2 MB 7.5 MB/s eta 0:00:01\r\u001b[K     |████████████████████████████████| 1.2 MB 7.5 MB/s \n",
            "\u001b[?25hInstalling collected packages: sentencepiece\n",
            "Successfully installed sentencepiece-0.1.96\n",
            "Collecting keras_metrics\n",
            "  Downloading keras_metrics-1.1.0-py2.py3-none-any.whl (5.6 kB)\n",
            "Requirement already satisfied: Keras>=2.1.5 in /usr/local/lib/python3.7/dist-packages (from keras_metrics) (2.6.0)\n",
            "Installing collected packages: keras-metrics\n",
            "Successfully installed keras-metrics-1.1.0\n"
          ]
        }
      ]
    },
    {
      "cell_type": "code",
      "metadata": {
        "id": "wAKwmyQFw7NM"
      },
      "source": [
        "import tensorflow as tf\n",
        "import numpy as np\n",
        "from tensorflow import keras\n",
        "import keras_metrics\n",
        "import pandas as pd\n",
        "import sentencepiece as spm"
      ],
      "execution_count": 2,
      "outputs": []
    },
    {
      "cell_type": "code",
      "metadata": {
        "id": "Z2E6s_vixem4"
      },
      "source": [
        "with open('min-ind.txt','r',encoding='utf-8') as f:\n",
        "  lines = f.read().split('\\n')\n",
        "with open('min-ind_train.txt','w',encoding='utf-8') as w:\n",
        "  for line in lines:\n",
        "    w.write(line+'\\n')\n",
        "lines_1 = []\n",
        "lines_2 = []\n",
        "with open('min-ind_train.txt','r',encoding='utf-8') as min:\n",
        "  for line in min.readlines():\n",
        "    split = line.split(',')\n",
        "    if split!=['\\n']:\n",
        "      lines_1.append(split[0])\n",
        "      lines_2.append(split[1])\n",
        "with open('min-ind_input.txt','w',encoding='utf-8') as enc_txt:\n",
        "  for line in lines_1:\n",
        "    enc_txt.write(line+'\\n')\n",
        "with open('min-ind_target.txt','w',encoding='utf-8') as tar_txt:\n",
        "  for line in lines_2:\n",
        "    tar_txt.write(line)"
      ],
      "execution_count": 4,
      "outputs": []
    },
    {
      "cell_type": "code",
      "metadata": {
        "colab": {
          "base_uri": "https://localhost:8080/"
        },
        "id": "kpXnbbo4xtfM",
        "outputId": "34ec3c88-3abf-4388-a8bc-af846c7a0c81"
      },
      "source": [
        "#import sentencepiece as spm\n",
        "model_inp = spm.SentencePieceTrainer.train(\"--input=min-ind_input.txt --model_prefix=input --vocab_size=100\")\n",
        "sp_inp = spm.SentencePieceProcessor()\n",
        "sp_inp.load('input.model')\n",
        "model_tar = spm.SentencePieceTrainer.train(\"--input=min-ind_target.txt --model_prefix=target --vocab_size=100\")\n",
        "sp_tar = spm.SentencePieceProcessor()\n",
        "sp_tar.load('target.model')"
      ],
      "execution_count": 7,
      "outputs": [
        {
          "output_type": "execute_result",
          "data": {
            "text/plain": [
              "True"
            ]
          },
          "metadata": {},
          "execution_count": 7
        }
      ]
    },
    {
      "cell_type": "code",
      "metadata": {
        "id": "ulkasyR6x9vs"
      },
      "source": [
        "### Prepare data ###\n",
        "input_encode = []\n",
        "target_encode = []\n",
        "with open('min-ind_input.txt','r',encoding='utf-8') as inp:\n",
        "  for line in inp:\n",
        "    input_encode.append(sp_inp.encode_as_pieces(line))\n",
        "with open('min-ind_target.txt','r',encoding='utf-8') as tar:\n",
        "  for line in tar:\n",
        "    target_encode.append(['\\t']+sp_tar.encode_as_pieces(line)+['\\n'])\n",
        " "
      ],
      "execution_count": 8,
      "outputs": []
    },
    {
      "cell_type": "code",
      "metadata": {
        "id": "0xfs7gz1x_PP"
      },
      "source": [
        "## Create a dictionary for characters mapping ##\n",
        "input_subwords = np.unique(np.array([tk for tok in input_encode for tk in tok]))\n",
        "input_subwords = np.append(input_subwords,\" \")\n",
        "target_subwords = np.unique(np.array([tk for tok in target_encode for tk in tok]))\n",
        "target_subwords = np.append(target_subwords,\" \")\n",
        "input_token_index = dict([(char,i) for i,char in enumerate(sorted(list(input_subwords)))])\n",
        "target_token_index = dict([(char,i) for i,char in enumerate(sorted(list(target_subwords)))])\n",
        "\n",
        "num_encoder_tokens= len(input_subwords)\n",
        "num_decoder_tokens = len(target_subwords)"
      ],
      "execution_count": 9,
      "outputs": []
    },
    {
      "cell_type": "code",
      "metadata": {
        "id": "kUsz9SfVyI83"
      },
      "source": [
        "max_encoder_seq_length = max([len(words) for words in input_encode])\n",
        "max_decoder_seq_length = max([len(words) for words in target_encode])\n",
        "\n",
        "encoder_input_data = np.zeros((len(input_encode),max_encoder_seq_length,num_encoder_tokens),dtype='float32')\n",
        "decoder_input_data = np.zeros((len(input_encode),max_decoder_seq_length,num_decoder_tokens),dtype='float32')\n",
        "decoder_target_data = np.zeros((len(target_encode),max_decoder_seq_length,num_decoder_tokens),dtype='float32')\n",
        " \n",
        "for i,(enc_word,tar_word) in enumerate(zip(input_encode,target_encode)):\n",
        "  for t,char in enumerate(enc_word):\n",
        "    encoder_input_data[i,t,input_token_index[char]] = 1.0\n",
        "  decoder_input_data[i,t+1 :,input_token_index[\" \"]] = 1.0 # encoding space at the end of encoder word for decoder input to reach to next word for encoding\n",
        "  for t,char in enumerate(tar_word):\n",
        "    decoder_input_data[i,t,target_token_index[char]] = 1.0\n",
        "    if t>0:\n",
        "      decoder_target_data[i,t-1,target_token_index[char]] = 1.0\n",
        "  decoder_input_data[i,t+1 :,target_token_index[\" \"]] = 1.0\n",
        "  decoder_target_data[i,t:,target_token_index[\" \"]] = 1.0"
      ],
      "execution_count": 10,
      "outputs": []
    },
    {
      "cell_type": "code",
      "metadata": {
        "id": "f5C2uDh7OuDu"
      },
      "source": [
        "from sklearn.model_selection import train_test_split\n",
        "from sklearn.model_selection import KFold\n",
        "seed = 7\n",
        "np.random.seed(seed)\n",
        "kfold_index,test_index = train_test_split(list(range(len(encoder_input_data))),test_size=0.2,random_state=seed)\n",
        "fold_var = 5\n",
        "kf = KFold(n_splits = fold_var,random_state=seed, shuffle=True)\n",
        "validation_accuracy = []\n",
        "validation_loss = []\n",
        "exac_match_accuracy = []\n",
        "#validation_recall = []"
      ],
      "execution_count": 11,
      "outputs": []
    },
    {
      "cell_type": "code",
      "metadata": {
        "id": "0vuvOaFvsqyS"
      },
      "source": [
        "encoder_input_data_k = pd.Series(list(encoder_input_data)).iloc[kfold_index].to_numpy()\n",
        "decoder_input_data_k = pd.Series(list(decoder_input_data)).iloc[kfold_index].to_numpy()\n",
        "decoder_target_data_k = pd.Series(list(decoder_target_data)).iloc[kfold_index].to_numpy()\n",
        "\n",
        "encoder_input_data_k = np.array([list(en) for en in encoder_input_data_k])\n",
        "decoder_input_data_k = np.array([list(en) for en in decoder_input_data_k])\n",
        "decoder_target_data_k = np.array([list(en) for en in decoder_target_data_k])\n",
        "\n",
        "encoder_input_data_test = pd.Series(list(encoder_input_data)).iloc[test_index].to_numpy()\n",
        "decoder_input_data_test = pd.Series(list(decoder_input_data)).iloc[test_index].to_numpy()\n",
        "decoder_target_data_test = pd.Series(list(decoder_target_data)).iloc[test_index].to_numpy()\n",
        "\n",
        "encoder_input_data_test = np.array([list(en) for en in encoder_input_data_test])\n",
        "decoder_input_data_test = np.array([list(en) for en in decoder_input_data_test])\n",
        "decoder_target_data_test = np.array([list(en) for en in decoder_target_data_test])"
      ],
      "execution_count": 12,
      "outputs": []
    },
    {
      "cell_type": "code",
      "metadata": {
        "id": "TgzzjIDf7n0B"
      },
      "source": [
        "batch_size = 64  # Batch size for training.\n",
        "epochs = 20  # Number of epochs to train for.\n",
        "latent_dim_1 = 128\n",
        "latent_dim_2 = 256\n",
        "latent_dim_3 = 512 # Latent dimensionality of the encoding space.\n",
        "num_samples = 13762  # Number of samples to train on."
      ],
      "execution_count": 13,
      "outputs": []
    },
    {
      "cell_type": "code",
      "metadata": {
        "id": "t1GAxFWPyehy",
        "colab": {
          "base_uri": "https://localhost:8080/"
        },
        "outputId": "c3428806-046b-4669-dc79-99456606b361"
      },
      "source": [
        "for i,(train_index,val_index) in enumerate(kf.split(np.zeros(len(encoder_input_data_k)))):\n",
        "  print('Iteration number : ', i+1)\n",
        "\n",
        "  # Define an input sequence and process it.\n",
        "  encoder_inputs = keras.Input(shape=(None, num_encoder_tokens))\n",
        "  encoder_outputs,forward_h,forward_c,backward_h,backward_c= keras.layers.Bidirectional(keras.layers.LSTM(latent_dim_2, return_state=True),merge_mode='concat',name='encoder_lstm1')(encoder_inputs)\n",
        "\n",
        "  # We discard `encoder_outputs` and only keep the states.\n",
        "  state_h = tf.keras.layers.Concatenate()([forward_h,forward_c])\n",
        "  state_c = tf.keras.layers.Concatenate()([backward_h,backward_c])\n",
        "  encoder_states = [state_h, state_c]\n",
        "\n",
        "  # Set up the decoder, using `encoder_states` as initial state.\n",
        "  decoder_inputs = keras.Input(shape=(None, num_decoder_tokens))\n",
        "\n",
        "  # We set up our decoder to return full output sequences,\n",
        "  # and to return internal states as well. We don't use the\n",
        "  # return states in the training model, but we will use them in inference.\n",
        "  decoder_outputs,*decoder_states= keras.layers.LSTM(latent_dim_3, return_sequences=True, return_state=True)(decoder_inputs, initial_state=encoder_states)\n",
        "  decoder_dense = keras.layers.Dense(num_decoder_tokens, activation=\"softmax\")\n",
        "  decoder_outputs = decoder_dense(decoder_outputs)\n",
        "\n",
        "  # Define the model that will turn\n",
        "  # `encoder_input_data` & `decoder_input_data` into `decoder_target_data`\n",
        "  model = keras.Model([encoder_inputs, decoder_inputs], decoder_outputs)\n",
        "\n",
        "  encoder_input_data_t = pd.Series(list(encoder_input_data_k)).iloc[train_index].to_numpy()\n",
        "  decoder_input_data_t = pd.Series(list(decoder_input_data_k)).iloc[train_index].to_numpy()\n",
        "  decoder_target_data_t = pd.Series(list(decoder_target_data_k)).iloc[train_index].to_numpy()\n",
        "\n",
        "  encoder_input_data_val = pd.Series(list(encoder_input_data_k)).iloc[val_index].to_numpy()\n",
        "  decoder_input_data_val = pd.Series(list(decoder_input_data_k)).iloc[val_index].to_numpy()\n",
        "  decoder_target_data_val = pd.Series(list(decoder_target_data_k)).iloc[val_index].to_numpy()\n",
        "\n",
        "  encoder_input_data_t = np.array([list(en) for en in encoder_input_data_t])\n",
        "  decoder_input_data_t = np.array([list(en) for en in decoder_input_data_t])\n",
        "  decoder_target_data_t = np.array([list(en) for en in decoder_target_data_t])\n",
        "\n",
        "  encoder_input_data_val = np.array([list(en) for en in encoder_input_data_val])\n",
        "  decoder_input_data_val = np.array([list(en) for en in decoder_input_data_val])\n",
        "  decoder_target_data_val = np.array([list(en) for en in decoder_target_data_val])\n",
        "\n",
        "  x_train = [encoder_input_data_t, decoder_input_data_t]\n",
        "  y_train = decoder_target_data_t\n",
        "\n",
        "  x_val = [encoder_input_data_val,decoder_input_data_val]\n",
        "  y_val = decoder_target_data_val\n",
        "\n",
        "  # Compile Model\n",
        "  model.compile(\n",
        "      optimizer=\"adam\", loss=\"categorical_crossentropy\", \n",
        "      metrics=[\"accuracy\",keras.metrics.Recall(),keras.metrics.Precision()]\n",
        "  )\n",
        "  \n",
        "  # Fitting Model\n",
        "  model_history = model.fit(\n",
        "      [encoder_input_data_t, decoder_input_data_t],\n",
        "      decoder_target_data_t,\n",
        "      batch_size=batch_size,\n",
        "      epochs=epochs,\n",
        "      validation_data = (x_val,y_val)\n",
        "  )\n",
        "  # Save model\n",
        "  model_name = 'model_bilstm_256_{}-Fold-{}'.format(fold_var,i+1)\n",
        "  model.save(model_name)\n",
        "\n",
        "  # Define sampling models\n",
        "  # Restore the model and construct the encoder and decoder.\n",
        "  model_inf = keras.models.load_model(model_name)\n",
        "\n",
        "  encoder_inputs = model_inf.input[0]  # input_1\n",
        "  encoder_outputs,state_h_enc,state_c_enc,backward_h,backward_c  = model_inf.layers[1].output  # lstm_1\n",
        "  states_h = keras.layers.Concatenate()([state_h_enc,state_c_enc])\n",
        "  states_c = keras.layers.Concatenate()([backward_h,backward_c])\n",
        "  encoder_states = [states_h,states_c]\n",
        "  encoder_model = keras.Model(encoder_inputs, encoder_states)\n",
        "\n",
        "  decoder_inputs = model_inf.input[1]  # input_2\n",
        "  decoder_state_input_h = keras.Input(shape=(latent_dim_3,), name=\"input_3\")\n",
        "  decoder_state_input_c = keras.Input(shape=(latent_dim_3,), name=\"input_5\")\n",
        "  decoder_states_inputs = [decoder_state_input_h,decoder_state_input_c]\n",
        "  decoder_lstm = model_inf.layers[5]\n",
        "  decoder_outputs, state_h_dec, state_c_dec = decoder_lstm(\n",
        "      decoder_inputs, initial_state=decoder_states_inputs\n",
        "  )\n",
        "  decoder_states = [state_h_dec, state_c_dec]\n",
        "  decoder_dense = model_inf.layers[6]\n",
        "  decoder_outputs = decoder_dense(decoder_outputs)\n",
        "  decoder_model = keras.Model(\n",
        "      [decoder_inputs] + decoder_states_inputs, [decoder_outputs] + decoder_states\n",
        "  )\n",
        "\n",
        "  # Reverse-lookup token index to decode sequences back to\n",
        "  # something readable.\n",
        "  reverse_input_char_index = dict((i, char) for char, i in input_token_index.items())\n",
        "  reverse_target_char_index = dict((i, char) for char, i in target_token_index.items())\n",
        "\n",
        "  def decode_sequence(input_seq):\n",
        "      # Encode the input as state vectors.\n",
        "      states_value = encoder_model.predict(input_seq)\n",
        "\n",
        "      # Generate empty target sequence of length 1.\n",
        "      target_seq = np.zeros((1, 1, num_decoder_tokens))\n",
        "      # Populate the first character of target sequence with the start character.\n",
        "      target_seq[0, 0, target_token_index[\"\\t\"]] = 1.0\n",
        "\n",
        "      # Sampling loop for a batch of sequences\n",
        "      # (to simplify, here we assume a batch of size 1).\n",
        "      stop_condition = False\n",
        "      decoded_sentence = \"\"\n",
        "      while not stop_condition:\n",
        "          output_tokens, h, c = decoder_model.predict([target_seq] + states_value)\n",
        "\n",
        "          # Sample a token\n",
        "          sampled_token_index = np.argmax(output_tokens[0, -1, :])\n",
        "          sampled_char = reverse_target_char_index[sampled_token_index]\n",
        "          decoded_sentence += sampled_char\n",
        "\n",
        "          # Exit condition: either hit max length\n",
        "          # or find stop character.\n",
        "          if sampled_char == \"\\n\" or len(decoded_sentence) > max_decoder_seq_length:\n",
        "              stop_condition = True\n",
        "\n",
        "          # Update the target sequence (of length 1).\n",
        "          target_seq = np.zeros((1, 1, num_decoder_tokens))\n",
        "          target_seq[0, 0, sampled_token_index] = 1.0\n",
        "\n",
        "          # Update states\n",
        "          states_value = [h, c]\n",
        "      return decoded_sentence\n",
        "\n",
        "  # Evaluate Model\n",
        "  results = model.evaluate(x_val, y_val, batch_size=batch_size)\n",
        "  results = dict(zip(model.metrics_names,results))\n",
        "  \n",
        "  # Save Evaluation Result\n",
        "  validation_accuracy.append(results['accuracy'])\n",
        "  validation_loss.append(results['loss'])\n",
        "  #validation_recall.append(results['recall'])\n",
        "  \n",
        "  # Check Result Translation\n",
        "  list_match = []\n",
        "  count = 0\n",
        "  print(\"Checking Translation Accuracy\")\n",
        "  for seq_index in val_index:\n",
        "      # Take one sequence (part of the training set)\n",
        "      # for trying out decoding.\n",
        "      input_seq = encoder_input_data[seq_index : seq_index + 1]\n",
        "      decoded_sentence = decode_sequence(input_seq)\n",
        "      decoded_sentence = decoded_sentence[1:-1]\n",
        "      exact_result = decoded_sentence==lines_2[seq_index][:-1]\n",
        "      # print(\"-\",seq_index)\n",
        "      # print(\"Input sentence:\", ''.join(lines_1[seq_index]))\n",
        "      # print(\"Decoded sentence:\", ''.join(decoded_sentence))\n",
        "      # print(\"Target sentence:\", ''.join(lines_2[seq_index][:-1]))\n",
        "      # print(\"Exact Match:\", ''.join(str(exact_result)))\n",
        "      list_match.append(exact_result)\n",
        "      count+=1\n",
        "  print(\"Exact Match count : \", sum(list_match))\n",
        "  print(\"Tested Data count : \", count)\n",
        "  print(\"Translation Accuracy : \", sum(list_match)/count)\n",
        "  exac_match_accuracy.append(sum(list_match)/count)"
      ],
      "execution_count": null,
      "outputs": [
        {
          "output_type": "stream",
          "name": "stdout",
          "text": [
            "Iteration number :  1\n",
            "Epoch 1/20\n",
            "138/138 [==============================] - 60s 396ms/step - loss: 1.6031 - accuracy: 0.6667 - recall: 0.5826 - precision: 0.9556 - val_loss: 1.2512 - val_accuracy: 0.7133 - val_recall: 0.6612 - val_precision: 0.9729\n",
            "Epoch 2/20\n",
            "138/138 [==============================] - 54s 389ms/step - loss: 1.1909 - accuracy: 0.7231 - recall: 0.6785 - precision: 0.9718 - val_loss: 1.0861 - val_accuracy: 0.7427 - val_recall: 0.6995 - val_precision: 0.9812\n",
            "Epoch 3/20\n",
            "138/138 [==============================] - 54s 392ms/step - loss: 0.9570 - accuracy: 0.7710 - recall: 0.7064 - precision: 0.9764 - val_loss: 0.8200 - val_accuracy: 0.8016 - val_recall: 0.7219 - val_precision: 0.9770\n",
            "Epoch 4/20\n",
            "138/138 [==============================] - 54s 392ms/step - loss: 0.6809 - accuracy: 0.8265 - recall: 0.7468 - precision: 0.9639 - val_loss: 0.5982 - val_accuracy: 0.8447 - val_recall: 0.7754 - val_precision: 0.9552\n",
            "Epoch 5/20\n",
            "138/138 [==============================] - 54s 390ms/step - loss: 0.5152 - accuracy: 0.8680 - recall: 0.7967 - precision: 0.9574 - val_loss: 0.5028 - val_accuracy: 0.8697 - val_recall: 0.8073 - val_precision: 0.9509\n",
            "Epoch 6/20\n",
            "138/138 [==============================] - 54s 390ms/step - loss: 0.4222 - accuracy: 0.8935 - recall: 0.8362 - precision: 0.9580 - val_loss: 0.4361 - val_accuracy: 0.8896 - val_recall: 0.8416 - val_precision: 0.9504\n",
            "Epoch 7/20\n",
            "138/138 [==============================] - 53s 386ms/step - loss: 0.3600 - accuracy: 0.9100 - recall: 0.8649 - precision: 0.9603 - val_loss: 0.3934 - val_accuracy: 0.9029 - val_recall: 0.8596 - val_precision: 0.9562\n",
            "Epoch 8/20\n",
            "138/138 [==============================] - 55s 399ms/step - loss: 0.3127 - accuracy: 0.9238 - recall: 0.8872 - precision: 0.9639 - val_loss: 0.3709 - val_accuracy: 0.9095 - val_recall: 0.8717 - val_precision: 0.9562\n",
            "Epoch 9/20\n",
            "138/138 [==============================] - 54s 392ms/step - loss: 0.2773 - accuracy: 0.9324 - recall: 0.9021 - precision: 0.9664 - val_loss: 0.3498 - val_accuracy: 0.9163 - val_recall: 0.8844 - val_precision: 0.9560\n",
            "Epoch 10/20\n",
            "138/138 [==============================] - 54s 395ms/step - loss: 0.2483 - accuracy: 0.9396 - recall: 0.9150 - precision: 0.9689 - val_loss: 0.3418 - val_accuracy: 0.9191 - val_recall: 0.8913 - val_precision: 0.9544\n",
            "Epoch 11/20\n",
            "138/138 [==============================] - 54s 395ms/step - loss: 0.2225 - accuracy: 0.9465 - recall: 0.9247 - precision: 0.9724 - val_loss: 0.3285 - val_accuracy: 0.9215 - val_recall: 0.8986 - val_precision: 0.9547\n",
            "Epoch 12/20\n",
            "138/138 [==============================] - 54s 392ms/step - loss: 0.2014 - accuracy: 0.9514 - recall: 0.9330 - precision: 0.9741 - val_loss: 0.3260 - val_accuracy: 0.9239 - val_recall: 0.9032 - val_precision: 0.9536\n",
            "Epoch 13/20\n",
            "138/138 [==============================] - 54s 390ms/step - loss: 0.1811 - accuracy: 0.9563 - recall: 0.9397 - precision: 0.9760 - val_loss: 0.3275 - val_accuracy: 0.9233 - val_recall: 0.9050 - val_precision: 0.9506\n",
            "Epoch 14/20\n",
            "138/138 [==============================] - 53s 388ms/step - loss: 0.1630 - accuracy: 0.9605 - recall: 0.9458 - precision: 0.9787 - val_loss: 0.3211 - val_accuracy: 0.9245 - val_recall: 0.9054 - val_precision: 0.9534\n",
            "Epoch 15/20\n",
            "138/138 [==============================] - 53s 387ms/step - loss: 0.1464 - accuracy: 0.9650 - recall: 0.9517 - precision: 0.9808 - val_loss: 0.3237 - val_accuracy: 0.9272 - val_recall: 0.9117 - val_precision: 0.9512\n",
            "Epoch 16/20\n",
            "138/138 [==============================] - 54s 392ms/step - loss: 0.1311 - accuracy: 0.9688 - recall: 0.9573 - precision: 0.9828 - val_loss: 0.3223 - val_accuracy: 0.9289 - val_recall: 0.9129 - val_precision: 0.9514\n",
            "Epoch 17/20\n",
            "138/138 [==============================] - 54s 391ms/step - loss: 0.1185 - accuracy: 0.9717 - recall: 0.9611 - precision: 0.9840 - val_loss: 0.3280 - val_accuracy: 0.9259 - val_recall: 0.9123 - val_precision: 0.9489\n",
            "Epoch 18/20\n",
            "138/138 [==============================] - 53s 388ms/step - loss: 0.1074 - accuracy: 0.9747 - recall: 0.9650 - precision: 0.9855 - val_loss: 0.3352 - val_accuracy: 0.9267 - val_recall: 0.9138 - val_precision: 0.9465\n",
            "Epoch 19/20\n",
            "138/138 [==============================] - 53s 384ms/step - loss: 0.0967 - accuracy: 0.9772 - recall: 0.9686 - precision: 0.9867 - val_loss: 0.3260 - val_accuracy: 0.9293 - val_recall: 0.9174 - val_precision: 0.9500\n",
            "Epoch 20/20\n",
            "138/138 [==============================] - 53s 381ms/step - loss: 0.0854 - accuracy: 0.9800 - recall: 0.9726 - precision: 0.9879 - val_loss: 0.3362 - val_accuracy: 0.9295 - val_recall: 0.9190 - val_precision: 0.9480\n"
          ]
        },
        {
          "output_type": "stream",
          "name": "stderr",
          "text": [
            "WARNING:absl:Found untraced functions such as lstm_cell_3_layer_call_and_return_conditional_losses, lstm_cell_3_layer_call_fn, lstm_cell_1_layer_call_and_return_conditional_losses, lstm_cell_1_layer_call_fn, lstm_cell_2_layer_call_and_return_conditional_losses while saving (showing 5 of 15). These functions will not be directly callable after loading.\n"
          ]
        },
        {
          "output_type": "stream",
          "name": "stdout",
          "text": [
            "INFO:tensorflow:Assets written to: model_bilstm_256_5-Fold-1/assets\n"
          ]
        },
        {
          "output_type": "stream",
          "name": "stderr",
          "text": [
            "INFO:tensorflow:Assets written to: model_bilstm_256_5-Fold-1/assets\n"
          ]
        },
        {
          "output_type": "stream",
          "name": "stdout",
          "text": [
            "35/35 [==============================] - 4s 113ms/step - loss: 0.3362 - accuracy: 0.9295 - recall: 0.9190 - precision: 0.9480\n",
            "Checking Translation Accuracy\n",
            "Exact Match count :  1603\n",
            "Tested Data count :  2202\n",
            "Translation Accuracy :  0.7279745685740237\n",
            "Iteration number :  2\n",
            "Epoch 1/20\n",
            "138/138 [==============================] - 59s 393ms/step - loss: 1.6173 - accuracy: 0.6650 - recall_1: 0.5822 - precision_1: 0.9564 - val_loss: 1.2543 - val_accuracy: 0.7118 - val_recall_1: 0.6662 - val_precision_1: 0.9651\n",
            "Epoch 2/20\n",
            "138/138 [==============================] - 53s 381ms/step - loss: 1.1723 - accuracy: 0.7284 - recall_1: 0.6826 - precision_1: 0.9726 - val_loss: 1.0617 - val_accuracy: 0.7503 - val_recall_1: 0.6979 - val_precision_1: 0.9804\n",
            "Epoch 3/20\n",
            "138/138 [==============================] - 53s 384ms/step - loss: 0.9187 - accuracy: 0.7788 - recall_1: 0.7113 - precision_1: 0.9739 - val_loss: 0.7775 - val_accuracy: 0.8053 - val_recall_1: 0.7249 - val_precision_1: 0.9653\n",
            "Epoch 4/20\n",
            "138/138 [==============================] - 52s 380ms/step - loss: 0.6508 - accuracy: 0.8336 - recall_1: 0.7527 - precision_1: 0.9626 - val_loss: 0.5835 - val_accuracy: 0.8469 - val_recall_1: 0.7770 - val_precision_1: 0.9532\n",
            "Epoch 5/20\n",
            "138/138 [==============================] - 52s 380ms/step - loss: 0.5073 - accuracy: 0.8686 - recall_1: 0.7981 - precision_1: 0.9574 - val_loss: 0.4884 - val_accuracy: 0.8776 - val_recall_1: 0.8117 - val_precision_1: 0.9573\n",
            "Epoch 6/20\n",
            "138/138 [==============================] - 52s 378ms/step - loss: 0.4191 - accuracy: 0.8938 - recall_1: 0.8365 - precision_1: 0.9579 - val_loss: 0.4274 - val_accuracy: 0.8959 - val_recall_1: 0.8359 - val_precision_1: 0.9616\n",
            "Epoch 7/20\n",
            "138/138 [==============================] - 52s 374ms/step - loss: 0.3570 - accuracy: 0.9108 - recall_1: 0.8661 - precision_1: 0.9602 - val_loss: 0.3950 - val_accuracy: 0.9030 - val_recall_1: 0.8596 - val_precision_1: 0.9535\n",
            "Epoch 8/20\n",
            "138/138 [==============================] - 52s 378ms/step - loss: 0.3126 - accuracy: 0.9225 - recall_1: 0.8871 - precision_1: 0.9632 - val_loss: 0.3656 - val_accuracy: 0.9137 - val_recall_1: 0.8767 - val_precision_1: 0.9557\n",
            "Epoch 9/20\n",
            "138/138 [==============================] - 51s 372ms/step - loss: 0.2755 - accuracy: 0.9326 - recall_1: 0.9024 - precision_1: 0.9667 - val_loss: 0.3451 - val_accuracy: 0.9193 - val_recall_1: 0.8892 - val_precision_1: 0.9551\n",
            "Epoch 10/20\n",
            "138/138 [==============================] - 52s 380ms/step - loss: 0.2473 - accuracy: 0.9400 - recall_1: 0.9145 - precision_1: 0.9691 - val_loss: 0.3348 - val_accuracy: 0.9214 - val_recall_1: 0.8958 - val_precision_1: 0.9546\n",
            "Epoch 11/20\n",
            "138/138 [==============================] - 52s 374ms/step - loss: 0.2230 - accuracy: 0.9464 - recall_1: 0.9242 - precision_1: 0.9715 - val_loss: 0.3295 - val_accuracy: 0.9244 - val_recall_1: 0.9008 - val_precision_1: 0.9534\n",
            "Epoch 12/20\n",
            "138/138 [==============================] - 52s 376ms/step - loss: 0.2001 - accuracy: 0.9513 - recall_1: 0.9331 - precision_1: 0.9734 - val_loss: 0.3228 - val_accuracy: 0.9267 - val_recall_1: 0.9068 - val_precision_1: 0.9528\n",
            "Epoch 13/20\n",
            "138/138 [==============================] - 51s 373ms/step - loss: 0.1810 - accuracy: 0.9560 - recall_1: 0.9395 - precision_1: 0.9760 - val_loss: 0.3179 - val_accuracy: 0.9287 - val_recall_1: 0.9117 - val_precision_1: 0.9530\n",
            "Epoch 14/20\n",
            "138/138 [==============================] - 51s 371ms/step - loss: 0.1611 - accuracy: 0.9610 - recall_1: 0.9466 - precision_1: 0.9785 - val_loss: 0.3277 - val_accuracy: 0.9272 - val_recall_1: 0.9117 - val_precision_1: 0.9509\n",
            "Epoch 15/20\n",
            "138/138 [==============================] - 52s 375ms/step - loss: 0.1445 - accuracy: 0.9648 - recall_1: 0.9516 - precision_1: 0.9801 - val_loss: 0.3219 - val_accuracy: 0.9290 - val_recall_1: 0.9135 - val_precision_1: 0.9529\n",
            "Epoch 16/20\n",
            "138/138 [==============================] - 51s 372ms/step - loss: 0.1297 - accuracy: 0.9690 - recall_1: 0.9574 - precision_1: 0.9819 - val_loss: 0.3196 - val_accuracy: 0.9299 - val_recall_1: 0.9153 - val_precision_1: 0.9525\n",
            "Epoch 17/20\n",
            "138/138 [==============================] - 52s 378ms/step - loss: 0.1145 - accuracy: 0.9728 - recall_1: 0.9625 - precision_1: 0.9842 - val_loss: 0.3240 - val_accuracy: 0.9301 - val_recall_1: 0.9161 - val_precision_1: 0.9523\n",
            "Epoch 18/20\n",
            "138/138 [==============================] - 52s 379ms/step - loss: 0.1027 - accuracy: 0.9756 - recall_1: 0.9662 - precision_1: 0.9856 - val_loss: 0.3355 - val_accuracy: 0.9297 - val_recall_1: 0.9183 - val_precision_1: 0.9494\n",
            "Epoch 19/20\n",
            "138/138 [==============================] - 52s 378ms/step - loss: 0.0912 - accuracy: 0.9788 - recall_1: 0.9711 - precision_1: 0.9869 - val_loss: 0.3375 - val_accuracy: 0.9291 - val_recall_1: 0.9188 - val_precision_1: 0.9486\n",
            "Epoch 20/20\n",
            "138/138 [==============================] - 52s 378ms/step - loss: 0.0843 - accuracy: 0.9800 - recall_1: 0.9727 - precision_1: 0.9874 - val_loss: 0.3336 - val_accuracy: 0.9297 - val_recall_1: 0.9186 - val_precision_1: 0.9500\n"
          ]
        },
        {
          "output_type": "stream",
          "name": "stderr",
          "text": [
            "WARNING:absl:Found untraced functions such as lstm_cell_11_layer_call_and_return_conditional_losses, lstm_cell_11_layer_call_fn, lstm_cell_9_layer_call_and_return_conditional_losses, lstm_cell_9_layer_call_fn, lstm_cell_10_layer_call_and_return_conditional_losses while saving (showing 5 of 15). These functions will not be directly callable after loading.\n"
          ]
        },
        {
          "output_type": "stream",
          "name": "stdout",
          "text": [
            "INFO:tensorflow:Assets written to: model_bilstm_256_5-Fold-2/assets\n"
          ]
        },
        {
          "output_type": "stream",
          "name": "stderr",
          "text": [
            "INFO:tensorflow:Assets written to: model_bilstm_256_5-Fold-2/assets\n"
          ]
        },
        {
          "output_type": "stream",
          "name": "stdout",
          "text": [
            "35/35 [==============================] - 4s 111ms/step - loss: 0.3336 - accuracy: 0.9297 - recall_1: 0.9186 - precision_1: 0.9500\n",
            "Checking Translation Accuracy\n",
            "Exact Match count :  1644\n",
            "Tested Data count :  2202\n",
            "Translation Accuracy :  0.7465940054495913\n",
            "Iteration number :  3\n",
            "Epoch 1/20\n",
            "138/138 [==============================] - 57s 378ms/step - loss: 1.6105 - accuracy: 0.6647 - recall_2: 0.5804 - precision_2: 0.9557 - val_loss: 1.3059 - val_accuracy: 0.7150 - val_recall_2: 0.6009 - val_precision_2: 0.9926\n",
            "Epoch 2/20\n",
            "138/138 [==============================] - 52s 373ms/step - loss: 1.1934 - accuracy: 0.7239 - recall_2: 0.6784 - precision_2: 0.9736 - val_loss: 1.1239 - val_accuracy: 0.7416 - val_recall_2: 0.6830 - val_precision_2: 0.9838\n",
            "Epoch 3/20\n",
            "138/138 [==============================] - 52s 374ms/step - loss: 0.9688 - accuracy: 0.7685 - recall_2: 0.7060 - precision_2: 0.9754 - val_loss: 0.8252 - val_accuracy: 0.7985 - val_recall_2: 0.7177 - val_precision_2: 0.9743\n",
            "Epoch 4/20\n",
            "138/138 [==============================] - 51s 368ms/step - loss: 0.6755 - accuracy: 0.8282 - recall_2: 0.7474 - precision_2: 0.9629 - val_loss: 0.6076 - val_accuracy: 0.8417 - val_recall_2: 0.7721 - val_precision_2: 0.9503\n",
            "Epoch 5/20\n",
            "138/138 [==============================] - 51s 368ms/step - loss: 0.5128 - accuracy: 0.8667 - recall_2: 0.7973 - precision_2: 0.9575 - val_loss: 0.5170 - val_accuracy: 0.8762 - val_recall_2: 0.7928 - val_precision_2: 0.9641\n",
            "Epoch 6/20\n",
            "138/138 [==============================] - 51s 368ms/step - loss: 0.4230 - accuracy: 0.8924 - recall_2: 0.8342 - precision_2: 0.9576 - val_loss: 0.4556 - val_accuracy: 0.8863 - val_recall_2: 0.8403 - val_precision_2: 0.9475\n",
            "Epoch 7/20\n",
            "138/138 [==============================] - 50s 365ms/step - loss: 0.3578 - accuracy: 0.9102 - recall_2: 0.8645 - precision_2: 0.9607 - val_loss: 0.4151 - val_accuracy: 0.9012 - val_recall_2: 0.8583 - val_precision_2: 0.9509\n",
            "Epoch 8/20\n",
            "138/138 [==============================] - 51s 367ms/step - loss: 0.3121 - accuracy: 0.9226 - recall_2: 0.8872 - precision_2: 0.9637 - val_loss: 0.3816 - val_accuracy: 0.9102 - val_recall_2: 0.8771 - val_precision_2: 0.9506\n",
            "Epoch 9/20\n",
            "138/138 [==============================] - 51s 366ms/step - loss: 0.2764 - accuracy: 0.9325 - recall_2: 0.9024 - precision_2: 0.9662 - val_loss: 0.3663 - val_accuracy: 0.9113 - val_recall_2: 0.8813 - val_precision_2: 0.9511\n",
            "Epoch 10/20\n",
            "138/138 [==============================] - 50s 365ms/step - loss: 0.2473 - accuracy: 0.9403 - recall_2: 0.9150 - precision_2: 0.9693 - val_loss: 0.3500 - val_accuracy: 0.9200 - val_recall_2: 0.8936 - val_precision_2: 0.9541\n",
            "Epoch 11/20\n",
            "138/138 [==============================] - 50s 364ms/step - loss: 0.2215 - accuracy: 0.9459 - recall_2: 0.9250 - precision_2: 0.9716 - val_loss: 0.3355 - val_accuracy: 0.9228 - val_recall_2: 0.8985 - val_precision_2: 0.9559\n",
            "Epoch 12/20\n",
            "138/138 [==============================] - 50s 364ms/step - loss: 0.1996 - accuracy: 0.9519 - recall_2: 0.9336 - precision_2: 0.9742 - val_loss: 0.3387 - val_accuracy: 0.9214 - val_recall_2: 0.9018 - val_precision_2: 0.9504\n",
            "Epoch 13/20\n",
            "138/138 [==============================] - 50s 366ms/step - loss: 0.1797 - accuracy: 0.9569 - recall_2: 0.9411 - precision_2: 0.9764 - val_loss: 0.3318 - val_accuracy: 0.9246 - val_recall_2: 0.9074 - val_precision_2: 0.9525\n",
            "Epoch 14/20\n",
            "138/138 [==============================] - 51s 366ms/step - loss: 0.1644 - accuracy: 0.9601 - recall_2: 0.9456 - precision_2: 0.9775 - val_loss: 0.3468 - val_accuracy: 0.9223 - val_recall_2: 0.9071 - val_precision_2: 0.9490\n",
            "Epoch 15/20\n",
            "138/138 [==============================] - 50s 364ms/step - loss: 0.1450 - accuracy: 0.9656 - recall_2: 0.9525 - precision_2: 0.9804 - val_loss: 0.3283 - val_accuracy: 0.9253 - val_recall_2: 0.9087 - val_precision_2: 0.9523\n",
            "Epoch 16/20\n",
            "138/138 [==============================] - 50s 366ms/step - loss: 0.1286 - accuracy: 0.9695 - recall_2: 0.9578 - precision_2: 0.9824 - val_loss: 0.3358 - val_accuracy: 0.9264 - val_recall_2: 0.9106 - val_precision_2: 0.9512\n",
            "Epoch 17/20\n",
            "138/138 [==============================] - 50s 363ms/step - loss: 0.1162 - accuracy: 0.9726 - recall_2: 0.9623 - precision_2: 0.9839 - val_loss: 0.3373 - val_accuracy: 0.9254 - val_recall_2: 0.9110 - val_precision_2: 0.9502\n",
            "Epoch 18/20\n",
            "138/138 [==============================] - 50s 364ms/step - loss: 0.1058 - accuracy: 0.9749 - recall_2: 0.9658 - precision_2: 0.9850 - val_loss: 0.3424 - val_accuracy: 0.9262 - val_recall_2: 0.9140 - val_precision_2: 0.9480\n",
            "Epoch 19/20\n",
            "138/138 [==============================] - 50s 364ms/step - loss: 0.0939 - accuracy: 0.9782 - recall_2: 0.9701 - precision_2: 0.9869 - val_loss: 0.3352 - val_accuracy: 0.9279 - val_recall_2: 0.9162 - val_precision_2: 0.9501\n",
            "Epoch 20/20\n",
            "138/138 [==============================] - 50s 364ms/step - loss: 0.0851 - accuracy: 0.9805 - recall_2: 0.9729 - precision_2: 0.9878 - val_loss: 0.3485 - val_accuracy: 0.9272 - val_recall_2: 0.9163 - val_precision_2: 0.9474\n"
          ]
        },
        {
          "output_type": "stream",
          "name": "stderr",
          "text": [
            "WARNING:absl:Found untraced functions such as lstm_cell_19_layer_call_and_return_conditional_losses, lstm_cell_19_layer_call_fn, lstm_cell_17_layer_call_and_return_conditional_losses, lstm_cell_17_layer_call_fn, lstm_cell_18_layer_call_and_return_conditional_losses while saving (showing 5 of 15). These functions will not be directly callable after loading.\n"
          ]
        },
        {
          "output_type": "stream",
          "name": "stdout",
          "text": [
            "INFO:tensorflow:Assets written to: model_bilstm_256_5-Fold-3/assets\n"
          ]
        },
        {
          "output_type": "stream",
          "name": "stderr",
          "text": [
            "INFO:tensorflow:Assets written to: model_bilstm_256_5-Fold-3/assets\n"
          ]
        },
        {
          "output_type": "stream",
          "name": "stdout",
          "text": [
            "35/35 [==============================] - 4s 110ms/step - loss: 0.3485 - accuracy: 0.9272 - recall_2: 0.9163 - precision_2: 0.9474\n",
            "Checking Translation Accuracy\n",
            "Exact Match count :  1675\n",
            "Tested Data count :  2202\n",
            "Translation Accuracy :  0.7606721162579473\n",
            "Iteration number :  4\n",
            "Epoch 1/20\n",
            "138/138 [==============================] - 57s 376ms/step - loss: 1.6184 - accuracy: 0.6666 - recall_3: 0.5817 - precision_3: 0.9551 - val_loss: 1.2769 - val_accuracy: 0.7094 - val_recall_3: 0.6626 - val_precision_3: 0.9550\n",
            "Epoch 2/20\n",
            "138/138 [==============================] - 51s 369ms/step - loss: 1.1747 - accuracy: 0.7281 - recall_3: 0.6854 - precision_3: 0.9721 - val_loss: 1.0813 - val_accuracy: 0.7432 - val_recall_3: 0.6971 - val_precision_3: 0.9786\n",
            "Epoch 3/20\n",
            "138/138 [==============================] - 50s 366ms/step - loss: 0.9441 - accuracy: 0.7726 - recall_3: 0.7108 - precision_3: 0.9751 - val_loss: 0.7997 - val_accuracy: 0.8013 - val_recall_3: 0.7247 - val_precision_3: 0.9667\n",
            "Epoch 4/20\n",
            "138/138 [==============================] - 51s 368ms/step - loss: 0.6711 - accuracy: 0.8285 - recall_3: 0.7488 - precision_3: 0.9630 - val_loss: 0.5993 - val_accuracy: 0.8480 - val_recall_3: 0.7671 - val_precision_3: 0.9573\n",
            "Epoch 5/20\n",
            "138/138 [==============================] - 51s 370ms/step - loss: 0.5171 - accuracy: 0.8663 - recall_3: 0.7954 - precision_3: 0.9563 - val_loss: 0.4802 - val_accuracy: 0.8793 - val_recall_3: 0.8097 - val_precision_3: 0.9569\n",
            "Epoch 6/20\n",
            "138/138 [==============================] - 50s 366ms/step - loss: 0.4193 - accuracy: 0.8929 - recall_3: 0.8361 - precision_3: 0.9575 - val_loss: 0.4212 - val_accuracy: 0.8965 - val_recall_3: 0.8447 - val_precision_3: 0.9531\n",
            "Epoch 7/20\n",
            "138/138 [==============================] - 51s 366ms/step - loss: 0.3583 - accuracy: 0.9099 - recall_3: 0.8649 - precision_3: 0.9602 - val_loss: 0.3877 - val_accuracy: 0.9047 - val_recall_3: 0.8602 - val_precision_3: 0.9561\n",
            "Epoch 8/20\n",
            "138/138 [==============================] - 51s 367ms/step - loss: 0.3113 - accuracy: 0.9230 - recall_3: 0.8882 - precision_3: 0.9632 - val_loss: 0.3507 - val_accuracy: 0.9153 - val_recall_3: 0.8801 - val_precision_3: 0.9568\n",
            "Epoch 9/20\n",
            "138/138 [==============================] - 51s 368ms/step - loss: 0.2774 - accuracy: 0.9317 - recall_3: 0.9020 - precision_3: 0.9658 - val_loss: 0.3410 - val_accuracy: 0.9178 - val_recall_3: 0.8883 - val_precision_3: 0.9553\n",
            "Epoch 10/20\n",
            "138/138 [==============================] - 51s 369ms/step - loss: 0.2469 - accuracy: 0.9400 - recall_3: 0.9154 - precision_3: 0.9693 - val_loss: 0.3331 - val_accuracy: 0.9211 - val_recall_3: 0.8972 - val_precision_3: 0.9536\n",
            "Epoch 11/20\n",
            "138/138 [==============================] - 51s 367ms/step - loss: 0.2214 - accuracy: 0.9461 - recall_3: 0.9248 - precision_3: 0.9720 - val_loss: 0.3198 - val_accuracy: 0.9236 - val_recall_3: 0.9025 - val_precision_3: 0.9540\n",
            "Epoch 12/20\n",
            "138/138 [==============================] - 51s 369ms/step - loss: 0.2014 - accuracy: 0.9511 - recall_3: 0.9323 - precision_3: 0.9739 - val_loss: 0.3106 - val_accuracy: 0.9277 - val_recall_3: 0.9089 - val_precision_3: 0.9541\n",
            "Epoch 13/20\n",
            "138/138 [==============================] - 51s 370ms/step - loss: 0.1795 - accuracy: 0.9569 - recall_3: 0.9407 - precision_3: 0.9765 - val_loss: 0.3056 - val_accuracy: 0.9275 - val_recall_3: 0.9080 - val_precision_3: 0.9547\n",
            "Epoch 14/20\n",
            "138/138 [==============================] - 51s 371ms/step - loss: 0.1625 - accuracy: 0.9606 - recall_3: 0.9460 - precision_3: 0.9787 - val_loss: 0.3111 - val_accuracy: 0.9277 - val_recall_3: 0.9122 - val_precision_3: 0.9519\n",
            "Epoch 15/20\n",
            "138/138 [==============================] - 51s 367ms/step - loss: 0.1459 - accuracy: 0.9645 - recall_3: 0.9516 - precision_3: 0.9802 - val_loss: 0.3062 - val_accuracy: 0.9311 - val_recall_3: 0.9146 - val_precision_3: 0.9539\n",
            "Epoch 16/20\n",
            "138/138 [==============================] - 51s 367ms/step - loss: 0.1296 - accuracy: 0.9689 - recall_3: 0.9568 - precision_3: 0.9826 - val_loss: 0.3043 - val_accuracy: 0.9317 - val_recall_3: 0.9175 - val_precision_3: 0.9540\n",
            "Epoch 17/20\n",
            "138/138 [==============================] - 51s 369ms/step - loss: 0.1151 - accuracy: 0.9728 - recall_3: 0.9625 - precision_3: 0.9849 - val_loss: 0.3051 - val_accuracy: 0.9313 - val_recall_3: 0.9175 - val_precision_3: 0.9523\n",
            "Epoch 18/20\n",
            "138/138 [==============================] - 51s 367ms/step - loss: 0.1036 - accuracy: 0.9759 - recall_3: 0.9663 - precision_3: 0.9860 - val_loss: 0.3268 - val_accuracy: 0.9290 - val_recall_3: 0.9173 - val_precision_3: 0.9490\n",
            "Epoch 19/20\n",
            "138/138 [==============================] - 51s 366ms/step - loss: 0.0939 - accuracy: 0.9781 - recall_3: 0.9695 - precision_3: 0.9873 - val_loss: 0.3170 - val_accuracy: 0.9324 - val_recall_3: 0.9206 - val_precision_3: 0.9516\n",
            "Epoch 20/20\n",
            "138/138 [==============================] - 51s 367ms/step - loss: 0.0875 - accuracy: 0.9787 - recall_3: 0.9708 - precision_3: 0.9870 - val_loss: 0.3247 - val_accuracy: 0.9299 - val_recall_3: 0.9196 - val_precision_3: 0.9481\n"
          ]
        },
        {
          "output_type": "stream",
          "name": "stderr",
          "text": [
            "WARNING:absl:Found untraced functions such as lstm_cell_27_layer_call_and_return_conditional_losses, lstm_cell_27_layer_call_fn, lstm_cell_25_layer_call_and_return_conditional_losses, lstm_cell_25_layer_call_fn, lstm_cell_26_layer_call_and_return_conditional_losses while saving (showing 5 of 15). These functions will not be directly callable after loading.\n"
          ]
        },
        {
          "output_type": "stream",
          "name": "stdout",
          "text": [
            "INFO:tensorflow:Assets written to: model_bilstm_256_5-Fold-4/assets\n"
          ]
        },
        {
          "output_type": "stream",
          "name": "stderr",
          "text": [
            "INFO:tensorflow:Assets written to: model_bilstm_256_5-Fold-4/assets\n"
          ]
        },
        {
          "output_type": "stream",
          "name": "stdout",
          "text": [
            "35/35 [==============================] - 4s 106ms/step - loss: 0.3247 - accuracy: 0.9299 - recall_3: 0.9196 - precision_3: 0.9481\n",
            "Checking Translation Accuracy\n"
          ]
        }
      ]
    },
    {
      "cell_type": "code",
      "metadata": {
        "id": "h8EF3rMvQqh_"
      },
      "source": [
        "# Show Accuracy Result\n",
        "for i,val_acc in enumerate(validation_accuracy):\n",
        "  print(\"Fold {} Accuracy : {}\".format(i+1,val_acc))\n",
        "print(\"Average Accuracy : %.2f%% (+/- %.2f%%)\" % (np.mean(validation_accuracy), np.std(validation_accuracy)))"
      ],
      "execution_count": null,
      "outputs": []
    },
    {
      "cell_type": "code",
      "metadata": {
        "id": "tlidiDKjuL0y"
      },
      "source": [
        "#Prep Test Data\n",
        "x_test = [encoder_input_data_test,decoder_input_data_test]\n",
        "y_test = decoder_target_data_test\n",
        "\n",
        "# Evaluate Model\n",
        "results = model.evaluate(x_test, y_test, batch_size=batch_size)\n",
        "results = dict(zip(model.metrics_names,results))"
      ],
      "execution_count": null,
      "outputs": []
    },
    {
      "cell_type": "code",
      "metadata": {
        "id": "uKR2pQ_jCMoj"
      },
      "source": [
        "# Check Result Translation -> Test Data\n",
        "list_match = []\n",
        "count = 0\n",
        "for seq_index in test_index:\n",
        "    # Take one sequence (part of the training set)\n",
        "    # for trying out decoding.\n",
        "    input_seq = encoder_input_data[seq_index : seq_index + 1]\n",
        "    decoded_sentence = decode_sequence(input_seq)\n",
        "    decoded_sentence = decoded_sentence[1:-1]\n",
        "    print(\"-\",seq_index)\n",
        "    print(\"Input sentence:\", ''.join(lines_1[seq_index]))\n",
        "    print(\"Decoded sentence:\", ''.join(decoded_sentence))\n",
        "    print(\"Target sentence:\", ''.join(lines_2[seq_index][:-1]))\n",
        "    print(\"Exact Match:\", ''.join(str(exact_result)))\n",
        "    exact_result = decoded_sentence==lines_2[seq_index][:-1]\n",
        "    list_match.append(exact_result)\n",
        "    count+=1\n",
        "print(\"Exact Match count : \", sum(list_match))\n",
        "print(\"Tested Data count : \", count)\n",
        "print(\"Translation Accuracy : \", sum(list_match)/count)"
      ],
      "execution_count": null,
      "outputs": []
    }
  ]
}